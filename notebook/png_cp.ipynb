{
 "cells": [
  {
   "cell_type": "code",
   "execution_count": null,
   "metadata": {},
   "outputs": [],
   "source": [
    "!pwd\n",
    "import sys\n",
    "%reload_ext autoreload\n",
    "%autoreload 2\n",
    "%matplotlib inline\n",
    "sys.executable"
   ]
  },
  {
   "cell_type": "code",
   "execution_count": 2,
   "metadata": {
    "ExecuteTime": {
     "end_time": "2020-08-04T12:50:14.985377Z",
     "start_time": "2020-08-04T12:49:40.632317Z"
    }
   },
   "outputs": [],
   "source": [
    "import glob, shutil\n",
    "\n",
    "before_dir = r\"D:\\work\\candlestick_model\\output\\ts_dataset_all_2day_label_binary\\train\\2\"\n",
    "after_dir = r\"D:\\work\\candlestick_model\\output\\ts_dataset_all_2day_label_binary\\train\\1\"\n",
    "\n",
    "# 指定ディレクトリの下位ファイルを全件移動\n",
    "after_paths = [shutil.move(p, after_dir) for p in glob.glob(before_dir+'/*')]"
   ]
  },
  {
   "cell_type": "code",
   "execution_count": null,
   "metadata": {},
   "outputs": [],
   "source": []
  }
 ],
 "metadata": {
  "kernelspec": {
   "display_name": "Python 3",
   "language": "python",
   "name": "python3"
  },
  "language_info": {
   "codemirror_mode": {
    "name": "ipython",
    "version": 3
   },
   "file_extension": ".py",
   "mimetype": "text/x-python",
   "name": "python",
   "nbconvert_exporter": "python",
   "pygments_lexer": "ipython3",
   "version": "3.7.5"
  }
 },
 "nbformat": 4,
 "nbformat_minor": 2
}
