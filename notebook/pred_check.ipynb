{
 "cells": [
  {
   "cell_type": "code",
   "execution_count": 1,
   "metadata": {
    "ExecuteTime": {
     "end_time": "2020-08-03T13:40:01.318499Z",
     "start_time": "2020-08-03T13:40:01.027268Z"
    }
   },
   "outputs": [
    {
     "name": "stdout",
     "output_type": "stream",
     "text": [
      "/c/Users/81908/jupyter_notebook/tf_2_work/stock_work/candlestick_model/notebook\n"
     ]
    },
    {
     "data": {
      "text/plain": [
       "'C:\\\\Users\\\\81908\\\\Anaconda3\\\\envs\\\\tfgpu\\\\python.exe'"
      ]
     },
     "execution_count": 1,
     "metadata": {},
     "output_type": "execute_result"
    }
   ],
   "source": [
    "!pwd\n",
    "import sys\n",
    "%reload_ext autoreload\n",
    "%autoreload 2\n",
    "%matplotlib inline\n",
    "sys.executable"
   ]
  },
  {
   "cell_type": "code",
   "execution_count": null,
   "metadata": {
    "ExecuteTime": {
     "end_time": "2020-08-03T13:26:37.247065Z",
     "start_time": "2020-08-03T13:26:37.195204Z"
    }
   },
   "outputs": [],
   "source": []
  },
  {
   "cell_type": "code",
   "execution_count": 72,
   "metadata": {
    "ExecuteTime": {
     "end_time": "2020-08-05T15:24:27.681688Z",
     "start_time": "2020-08-05T15:24:27.633814Z"
    }
   },
   "outputs": [
    {
     "name": "stdout",
     "output_type": "stream",
     "text": [
      "Unnamed: 0                                       566\n",
      "date_exe                         2020-07-01 00:00:00\n",
      "code                                            9007\n",
      "pred_pb                                     0.865821\n",
      "2day_pred_y                                        1\n",
      "date_exe_price                                  2601\n",
      "tomorrow_true_price                             2617\n",
      "day_after_tomorrow_true_price                   2648\n",
      "Unnamed: 8                                        31\n",
      "Name: 9403, dtype: object\n",
      "n_buy, diff: 1.0 31.0\n",
      "Unnamed: 0                                       733\n",
      "date_exe                         2020-07-02 00:00:00\n",
      "code                                            4062\n",
      "pred_pb                                     0.857162\n",
      "2day_pred_y                                        1\n",
      "date_exe_price                                  3020\n",
      "tomorrow_true_price                             3040\n",
      "day_after_tomorrow_true_price                   3105\n",
      "Unnamed: 8                                        65\n",
      "Name: 9395, dtype: object\n",
      "n_buy, diff: 1.0 65.0\n",
      "Unnamed: 0                                      1162\n",
      "date_exe                         2020-07-03 00:00:00\n",
      "code                                            2296\n",
      "pred_pb                                     0.825896\n",
      "2day_pred_y                                        1\n",
      "date_exe_price                                   623\n",
      "tomorrow_true_price                              625\n",
      "day_after_tomorrow_true_price                    639\n",
      "Unnamed: 8                                        14\n",
      "Name: 9290, dtype: object\n",
      "n_buy, diff: 8.0 112.0\n",
      "Unnamed: 0                                      3834\n",
      "date_exe                         2020-07-10 00:00:00\n",
      "code                                            3656\n",
      "pred_pb                                     0.855627\n",
      "2day_pred_y                                        1\n",
      "date_exe_price                                   709\n",
      "tomorrow_true_price                              725\n",
      "day_after_tomorrow_true_price                    755\n",
      "Unnamed: 8                                        30\n",
      "Name: 9391, dtype: object\n",
      "n_buy, diff: 6.0 180.0\n",
      "Unnamed: 0                                      4289\n",
      "date_exe                         2020-07-14 00:00:00\n",
      "code                                            2412\n",
      "pred_pb                                     0.868686\n",
      "2day_pred_y                                        1\n",
      "date_exe_price                                  2132\n",
      "tomorrow_true_price                             2151\n",
      "day_after_tomorrow_true_price                   2190\n",
      "Unnamed: 8                                        39\n",
      "Name: 9408, dtype: object\n",
      "n_buy, diff: 2.0 78.0\n",
      "Unnamed: 0                                      5935\n",
      "date_exe                         2020-07-17 00:00:00\n",
      "code                                            4185\n",
      "pred_pb                                     0.844921\n",
      "2day_pred_y                                        1\n",
      "date_exe_price                                  2134\n",
      "tomorrow_true_price                             2200\n",
      "day_after_tomorrow_true_price                   2219\n",
      "Unnamed: 8                                        19\n",
      "Name: 9377, dtype: object\n",
      "n_buy, diff: 2.0 38.0\n",
      "Unnamed: 0                                      8251\n",
      "date_exe                         2020-07-28 00:00:00\n",
      "code                                            7867\n",
      "pred_pb                                     0.840463\n",
      "2day_pred_y                                        1\n",
      "date_exe_price                                   843\n",
      "tomorrow_true_price                              844\n",
      "day_after_tomorrow_true_price                    844\n",
      "Unnamed: 8                                         0\n",
      "Name: 9356, dtype: object\n",
      "n_buy, diff: 5.0 0.0\n",
      "Unnamed: 0                                      8523\n",
      "date_exe                         2020-07-29 00:00:00\n",
      "code                                            4246\n",
      "pred_pb                                     0.856659\n",
      "2day_pred_y                                        1\n",
      "date_exe_price                                   475\n",
      "tomorrow_true_price                              478\n",
      "day_after_tomorrow_true_price                    472\n",
      "Unnamed: 8                                        -6\n",
      "Name: 9393, dtype: object\n",
      "n_buy, diff: 10.0 -60.0\n",
      "day: 19\n",
      "n_trade 8\n",
      "sum_diff: 44400.0\n"
     ]
    }
   ],
   "source": [
    "import pandas as pd\n",
    "\n",
    "th_price = 5000\n",
    "th_pb = 0.8\n",
    "\n",
    "df = pd.read_csv(\n",
    "    #r\"D:\\work\\candlestick_model\\output\\model\\ts_dataset_all_2day_label\\Xception\\predict\\pred_20200803.csv\",\n",
    "    #r\"D:\\work\\candlestick_model\\output\\model\\ts_dataset_all_2day_label\\Xception\\predict\\pred.csv\",\n",
    "    r\"D:\\work\\candlestick_model\\output\\model\\ts_dataset_all_2day_label\\Xception\\predict\\pred_2020-07.csv\",\n",
    "    #r\"D:\\work\\candlestick_model\\output\\model\\ts_dataset_all_2day_label_binary\\predict\\pred_before40day_20200805.csv\",\n",
    "    parse_dates=[\"date_exe\"],\n",
    ")\n",
    "\n",
    "d_count = 0\n",
    "n_trade = 0\n",
    "sum_diff = 0\n",
    "for i, df_g in df.groupby([\"date_exe\"]):\n",
    "    d_count += 1\n",
    "\n",
    "    # 前日よりも上がった株だけにする\n",
    "    df_g = df_g[df_g[\"date_exe_price\"] < df_g[\"tomorrow_true_price\"]]\n",
    "    #print(df_g.shape)\n",
    "    \n",
    "    if df_g.shape[0] > 0:\n",
    "        # 確率一番大きいの1件とる\n",
    "        df_g = df_g.sort_values(by=[\"pred_pb\"], ascending=False)\n",
    "        #display(df_g)\n",
    "        \n",
    "        series_max = df_g.iloc[0]\n",
    "        #print(series_max)\n",
    "\n",
    "        # 条件満たしたら購入\n",
    "        if (\n",
    "            (series_max[\"2day_pred_y\"] in [2, 1])\n",
    "            and (series_max[\"tomorrow_true_price\"] < th_price)\n",
    "            and (series_max[\"pred_pb\"] > th_pb)\n",
    "            and (series_max[\"day_after_tomorrow_true_price\"] != 0)\n",
    "        ):\n",
    "            print(series_max)\n",
    "            n_buy = th_price // series_max[\"tomorrow_true_price\"]\n",
    "            diff = (\n",
    "                series_max[\"day_after_tomorrow_true_price\"]\n",
    "                - series_max[\"tomorrow_true_price\"]\n",
    "            ) * n_buy\n",
    "            print(\"n_buy, diff:\", n_buy, diff)\n",
    "            n_trade += 1\n",
    "            sum_diff += diff * 100  # 100株単位\n",
    "\n",
    "print(\"day:\", d_count)\n",
    "print(\"n_trade\", n_trade) \n",
    "print(\"sum_diff:\", sum_diff)"
   ]
  },
  {
   "cell_type": "code",
   "execution_count": null,
   "metadata": {},
   "outputs": [],
   "source": []
  },
  {
   "cell_type": "code",
   "execution_count": null,
   "metadata": {},
   "outputs": [],
   "source": []
  },
  {
   "cell_type": "code",
   "execution_count": null,
   "metadata": {},
   "outputs": [],
   "source": []
  }
 ],
 "metadata": {
  "kernelspec": {
   "display_name": "Python 3",
   "language": "python",
   "name": "python3"
  },
  "language_info": {
   "codemirror_mode": {
    "name": "ipython",
    "version": 3
   },
   "file_extension": ".py",
   "mimetype": "text/x-python",
   "name": "python",
   "nbconvert_exporter": "python",
   "pygments_lexer": "ipython3",
   "version": "3.7.5"
  }
 },
 "nbformat": 4,
 "nbformat_minor": 2
}
