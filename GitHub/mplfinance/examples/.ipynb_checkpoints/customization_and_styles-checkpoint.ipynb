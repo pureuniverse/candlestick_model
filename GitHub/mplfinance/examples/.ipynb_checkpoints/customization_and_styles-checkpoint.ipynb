{
 "cells": [
  {
   "cell_type": "markdown",
   "metadata": {},
   "source": [
    "---\n",
    "\n",
    "#  mplfinance: customization and styles\n",
    "\n",
    "---"
   ]
  },
  {
   "cell_type": "code",
   "execution_count": 1,
   "metadata": {},
   "outputs": [],
   "source": [
    "# This allows multiple outputs from a single jupyter notebook cell:\n",
    "from IPython.core.interactiveshell import InteractiveShell\n",
    "InteractiveShell.ast_node_interactivity = \"all\""
   ]
  },
  {
   "cell_type": "code",
   "execution_count": 2,
   "metadata": {},
   "outputs": [],
   "source": [
    "%matplotlib inline\n",
    "import pandas as pd\n",
    "\n",
    "import sys\n",
    "sys.path.append(r'C:\\Users\\81908\\Git\\mplfinance\\src')\n",
    "import mplfinance"
   ]
  },
  {
   "cell_type": "markdown",
   "metadata": {},
   "source": [
    "### Read in daily data for the S&P 500 from November of 2019 "
   ]
  },
  {
   "cell_type": "code",
   "execution_count": 3,
   "metadata": {},
   "outputs": [
    {
     "data": {
      "text/plain": [
       "(20, 5)"
      ]
     },
     "execution_count": 3,
     "metadata": {},
     "output_type": "execute_result"
    },
    {
     "data": {
      "text/html": [
       "<div>\n",
       "<style scoped>\n",
       "    .dataframe tbody tr th:only-of-type {\n",
       "        vertical-align: middle;\n",
       "    }\n",
       "\n",
       "    .dataframe tbody tr th {\n",
       "        vertical-align: top;\n",
       "    }\n",
       "\n",
       "    .dataframe thead th {\n",
       "        text-align: right;\n",
       "    }\n",
       "</style>\n",
       "<table border=\"1\" class=\"dataframe\">\n",
       "  <thead>\n",
       "    <tr style=\"text-align: right;\">\n",
       "      <th></th>\n",
       "      <th>Open</th>\n",
       "      <th>High</th>\n",
       "      <th>Low</th>\n",
       "      <th>Close</th>\n",
       "      <th>Volume</th>\n",
       "    </tr>\n",
       "    <tr>\n",
       "      <th>Date</th>\n",
       "      <th></th>\n",
       "      <th></th>\n",
       "      <th></th>\n",
       "      <th></th>\n",
       "      <th></th>\n",
       "    </tr>\n",
       "  </thead>\n",
       "  <tbody>\n",
       "    <tr>\n",
       "      <th>2019-11-01</th>\n",
       "      <td>3050.72</td>\n",
       "      <td>3066.95</td>\n",
       "      <td>3050.72</td>\n",
       "      <td>3066.91</td>\n",
       "      <td>510301237</td>\n",
       "    </tr>\n",
       "    <tr>\n",
       "      <th>2019-11-04</th>\n",
       "      <td>3078.96</td>\n",
       "      <td>3085.20</td>\n",
       "      <td>3074.87</td>\n",
       "      <td>3078.27</td>\n",
       "      <td>524848878</td>\n",
       "    </tr>\n",
       "  </tbody>\n",
       "</table>\n",
       "</div>"
      ],
      "text/plain": [
       "               Open     High      Low    Close     Volume\n",
       "Date                                                     \n",
       "2019-11-01  3050.72  3066.95  3050.72  3066.91  510301237\n",
       "2019-11-04  3078.96  3085.20  3074.87  3078.27  524848878"
      ]
     },
     "execution_count": 3,
     "metadata": {},
     "output_type": "execute_result"
    },
    {
     "data": {
      "text/html": [
       "<div>\n",
       "<style scoped>\n",
       "    .dataframe tbody tr th:only-of-type {\n",
       "        vertical-align: middle;\n",
       "    }\n",
       "\n",
       "    .dataframe tbody tr th {\n",
       "        vertical-align: top;\n",
       "    }\n",
       "\n",
       "    .dataframe thead th {\n",
       "        text-align: right;\n",
       "    }\n",
       "</style>\n",
       "<table border=\"1\" class=\"dataframe\">\n",
       "  <thead>\n",
       "    <tr style=\"text-align: right;\">\n",
       "      <th></th>\n",
       "      <th>Open</th>\n",
       "      <th>High</th>\n",
       "      <th>Low</th>\n",
       "      <th>Close</th>\n",
       "      <th>Volume</th>\n",
       "    </tr>\n",
       "    <tr>\n",
       "      <th>Date</th>\n",
       "      <th></th>\n",
       "      <th></th>\n",
       "      <th></th>\n",
       "      <th></th>\n",
       "      <th></th>\n",
       "    </tr>\n",
       "  </thead>\n",
       "  <tbody>\n",
       "    <tr>\n",
       "      <th>2019-11-27</th>\n",
       "      <td>3145.49</td>\n",
       "      <td>3154.26</td>\n",
       "      <td>3143.41</td>\n",
       "      <td>3153.63</td>\n",
       "      <td>421853938</td>\n",
       "    </tr>\n",
       "    <tr>\n",
       "      <th>2019-11-29</th>\n",
       "      <td>3147.18</td>\n",
       "      <td>3150.30</td>\n",
       "      <td>3139.34</td>\n",
       "      <td>3140.98</td>\n",
       "      <td>286602291</td>\n",
       "    </tr>\n",
       "  </tbody>\n",
       "</table>\n",
       "</div>"
      ],
      "text/plain": [
       "               Open     High      Low    Close     Volume\n",
       "Date                                                     \n",
       "2019-11-27  3145.49  3154.26  3143.41  3153.63  421853938\n",
       "2019-11-29  3147.18  3150.30  3139.34  3140.98  286602291"
      ]
     },
     "execution_count": 3,
     "metadata": {},
     "output_type": "execute_result"
    }
   ],
   "source": [
    "daily = pd.read_csv('data/SP500_NOV2019_Hist.csv',index_col=0,parse_dates=True)\n",
    "daily.index.name = 'Date'\n",
    "daily.shape\n",
    "daily.head(2)\n",
    "daily.tail(2)"
   ]
  },
  {
   "cell_type": "code",
   "execution_count": 4,
   "metadata": {},
   "outputs": [
    {
     "ename": "ModuleNotFoundError",
     "evalue": "No module named 'mplfinance'",
     "output_type": "error",
     "traceback": [
      "\u001b[1;31m---------------------------------------------------------------------------\u001b[0m",
      "\u001b[1;31mModuleNotFoundError\u001b[0m                       Traceback (most recent call last)",
      "\u001b[1;32m<ipython-input-4-a189843ff0fe>\u001b[0m in \u001b[0;36m<module>\u001b[1;34m\u001b[0m\n\u001b[1;32m----> 1\u001b[1;33m \u001b[1;32mimport\u001b[0m \u001b[0mmplfinance\u001b[0m \u001b[1;32mas\u001b[0m \u001b[0mmpf\u001b[0m\u001b[1;33m\u001b[0m\u001b[1;33m\u001b[0m\u001b[0m\n\u001b[0m",
      "\u001b[1;31mModuleNotFoundError\u001b[0m: No module named 'mplfinance'"
     ]
    }
   ],
   "source": [
    "import mplfinance as mpf"
   ]
  },
  {
   "cell_type": "markdown",
   "metadata": {},
   "source": [
    "# Customizing the plot\n",
    "\n",
    "### In addition to plot type (line,ohlc,candle),<br> we can partially customize the appearance of the plot using kwargs,<br> for example:\n",
    "\n",
    "- **Aspect Ratio and Size of the Figure**\n",
    "- **Display of Non-Trading Days**\n",
    "- **Figure Title**\n",
    "- **Y-Labels**\n",
    "- **Line Color for line plot**"
   ]
  },
  {
   "cell_type": "markdown",
   "metadata": {},
   "source": [
    "***\n",
    "\n",
    "- `figscale` is used to scale the aspect ratio (`figratio`) up or down.\n",
    "- `figscale=1.0` means that the aspect ratio, `figratio`, *\\*is** the size of the Figure in inches.\n",
    "- `figscale` and `figratio` can be used independently (they do _not_ need to be specified together)\n",
    "- If not specified, the default values (as of Feb 2020) are:\n",
    "  - `figscale = 1.0`\n",
    "  - `figratio = (8.00,5.75)`"
   ]
  },
  {
   "cell_type": "code",
   "execution_count": null,
   "metadata": {},
   "outputs": [],
   "source": [
    "mpf.plot(daily,figratio=(15,10),figscale=0.5)"
   ]
  },
  {
   "cell_type": "markdown",
   "metadata": {},
   "source": [
    "---\n",
    "\n",
    "- An earlier (pre-release) version of mplfinance provided the `no_xgaps` kwarg to eliminate the gaps in the plot created by non-trading periods (days or, for intraday data, hours)\n",
    "- Based on feedback from users the `mpf.plot()` *now* ***defaults to NOT show*** *non-trading periods* (`no_xgaps=True`) ***and*** *the* `no_xgaps` *keyword is deprecated, in favor of the* `show_nontrading` *kwarg:*"
   ]
  },
  {
   "cell_type": "code",
   "execution_count": null,
   "metadata": {},
   "outputs": [],
   "source": [
    "mpf.plot(daily,type='candle',volume=True,figscale=0.9)\n",
    "mpf.plot(daily,type='candle',volume=True,figscale=0.9,show_nontrading=True)"
   ]
  },
  {
   "cell_type": "markdown",
   "metadata": {},
   "source": [
    "---\n",
    "\n",
    "### We can also set the Title and the Y-axis labels:"
   ]
  },
  {
   "cell_type": "code",
   "execution_count": null,
   "metadata": {},
   "outputs": [],
   "source": [
    "mpf.plot(daily,type='candle',volume=True,\n",
    "         title='\\nS&P 500, Nov 2019',\n",
    "         ylabel='OHLC Candles',\n",
    "         ylabel_lower='Shares\\nTraded')"
   ]
  },
  {
   "cell_type": "markdown",
   "metadata": {},
   "source": [
    "We can also set the linecolor for a line plot:"
   ]
  },
  {
   "cell_type": "code",
   "execution_count": null,
   "metadata": {},
   "outputs": [],
   "source": [
    "mpf.plot(daily, type='line', linecolor='#00ff00')"
   ]
  },
  {
   "cell_type": "markdown",
   "metadata": {},
   "source": [
    "---\n",
    "## ----------------------------------------------------------\n",
    "# mplfinance styles\n",
    "\n",
    "\n",
    "- It is also possible to customize the colors of the plot.\n",
    "- The simplest way to do this is to choose one of the `styles` that come packaged with `mplfinance`,<br> but (as we will see below) it is also possible to customize your own `styles`.\n",
    "\n",
    "---\n",
    "\n",
    "- Use `mpf.available_styles()` to see which mpf styles are currently installed:"
   ]
  },
  {
   "cell_type": "code",
   "execution_count": null,
   "metadata": {},
   "outputs": [],
   "source": [
    "mpf.available_styles()"
   ]
  },
  {
   "cell_type": "markdown",
   "metadata": {},
   "source": [
    "---\n",
    "\n",
    "- Use the `style=` kwarg to display the plot with one of the available styles.\n",
    "- **Here are a few examples:**"
   ]
  },
  {
   "cell_type": "code",
   "execution_count": null,
   "metadata": {},
   "outputs": [],
   "source": [
    "# First we set the kwargs that we will use for all of these examples:\n",
    "kwargs = dict(type='candle',mav=(2,4,6),volume=True,figratio=(10,8),figscale=0.75)"
   ]
  },
  {
   "cell_type": "code",
   "execution_count": null,
   "metadata": {},
   "outputs": [],
   "source": [
    "mpf.plot(daily,**kwargs,style='classic')"
   ]
  },
  {
   "cell_type": "code",
   "execution_count": null,
   "metadata": {},
   "outputs": [],
   "source": [
    "mpf.plot(daily,**kwargs,style='charles')"
   ]
  },
  {
   "cell_type": "code",
   "execution_count": null,
   "metadata": {},
   "outputs": [],
   "source": [
    "rcdf = mpf.plot(daily,**kwargs,style='mike')"
   ]
  },
  {
   "cell_type": "code",
   "execution_count": null,
   "metadata": {},
   "outputs": [],
   "source": [
    "mpf.plot(daily,**kwargs,style='blueskies')"
   ]
  },
  {
   "cell_type": "code",
   "execution_count": null,
   "metadata": {},
   "outputs": [],
   "source": [
    "mpf.plot(daily,**kwargs,style='starsandstripes')"
   ]
  },
  {
   "cell_type": "code",
   "execution_count": null,
   "metadata": {},
   "outputs": [],
   "source": [
    "mpf.plot(daily,**kwargs,style='brasil')"
   ]
  },
  {
   "cell_type": "code",
   "execution_count": null,
   "metadata": {},
   "outputs": [],
   "source": [
    "mpf.plot(daily,**kwargs,style='yahoo')"
   ]
  },
  {
   "cell_type": "markdown",
   "metadata": {},
   "source": [
    "---\n",
    "## -----------------------------------------------------------\n",
    "## Customizing your own \"mplfinance style\"\n",
    "## -----------------------------------------------------------\n",
    "\n",
    "---\n",
    "\n",
    "### Each `mplfinance` style is made up of **THREE** parts.<br><br>The first part is mandatory, the second two are optional:<br>\n",
    "\n",
    "---\n",
    "\n",
    "|     | Element | Optional/Mandatory | Description |\n",
    "|:---:| :------------ | :----------------- | :---------- |\n",
    "| **1.** | `marketcolors` | **mandatory** | controls the up/down colors of candlesticks, ohlc bars, and volume.|\n",
    "| **2.** | `mavcolors` | optional | sets the colors of moving average lines.  If `mavcolors` is not specified, then the default `matplotlib` line colors are used (as specified by `rcParams['axes.prop_cycle']`) |\n",
    "| **3.** | matplotlib style | optional | ([see matplotlib documentation](https://matplotlib.org/tutorials/introductory/customizing.html)) |\n",
    "\n",
    "---"
   ]
  },
  {
   "cell_type": "markdown",
   "metadata": {},
   "source": [
    "---\n",
    "- Thus we can create a minimal **mplfinance style** by specifying only `marketcolors`:\n",
    "\n",
    "\n",
    "- Any marketcolors not specified explicitly, will be taken from **mpf style** `default`\n",
    "  - thus, in the _example below,_ we see colors _other than_ `g` and `r` for the parts of `marketcolors` that were _not_ specified, i.e. for volume, candle edges, and candle wicks."
   ]
  },
  {
   "cell_type": "code",
   "execution_count": null,
   "metadata": {},
   "outputs": [],
   "source": [
    "mc = mpf.make_marketcolors(up='g',down='r')\n",
    "s  = mpf.make_mpf_style(marketcolors=mc)"
   ]
  },
  {
   "cell_type": "code",
   "execution_count": null,
   "metadata": {},
   "outputs": [],
   "source": [
    "mpf.plot(daily,**kwargs,style=s)"
   ]
  },
  {
   "cell_type": "markdown",
   "metadata": {},
   "source": [
    "---\n",
    "\n",
    "- within `marketcolors` one can also specify colors for the `edges` and `wicks` of candlesticks.\n",
    "\n",
    "\n",
    "- `ohlc` bars, and `volume` can also be specified separately from candlesticks:\n",
    "\n",
    "for example:"
   ]
  },
  {
   "cell_type": "code",
   "execution_count": null,
   "metadata": {},
   "outputs": [],
   "source": [
    "mc = mpf.make_marketcolors(up='g',down='r',\n",
    "                           edge='lime',\n",
    "                           wick={'up':'blue','down':'orange'},\n",
    "                           volume='gray',\n",
    "                           ohlc='black')\n",
    "s  = mpf.make_mpf_style(marketcolors=mc)\n",
    "\n",
    "mpf.plot(daily,**kwargs,style=s)\n",
    "\n",
    "ohlckws = kwargs.copy()\n",
    "ohlckws.update(type='ohlc')\n",
    "\n",
    "mpf.plot(daily,**ohlckws,style=s)"
   ]
  },
  {
   "cell_type": "markdown",
   "metadata": {},
   "source": [
    "---\n",
    "---\n",
    "\n",
    "- Each of the keywords `edge`, `wick`, `ohlc`, and `volume` can have the following values:<br>\n",
    "  **1.** Any single matplotlib color<br>\n",
    "  **2.** A dict specifying separate colors for `'up'` and a `'down'`<br>\n",
    "  **3.** The str `'inherit'` (or any part thereof: `'i'`, `'in'`, `'inh'`, etc.) indicating that the keyword (`edge`, `wick`, `ohlc`, `volume`) should use the same colors as were specified by the keywords `up` and `down`.<br>\n",
    "\n",
    "  \n",
    "- Thus:"
   ]
  },
  {
   "cell_type": "code",
   "execution_count": null,
   "metadata": {},
   "outputs": [],
   "source": [
    "mc = mpf.make_marketcolors(up='palegreen',down='c',\n",
    "                           edge='inherit',\n",
    "                           wick='black',\n",
    "                           volume='in',\n",
    "                           ohlc='i')\n",
    "s  = mpf.make_mpf_style(marketcolors=mc)\n",
    "\n",
    "mpf.plot(daily,**kwargs,style=s)\n",
    "\n",
    "mpf.plot(daily,**ohlckws,style=s)"
   ]
  },
  {
   "cell_type": "markdown",
   "metadata": {},
   "source": [
    "---\n",
    "\n",
    "- To save time, if you want **all** marketcolors to inherit from up/down, simply say `inherit=True`\n",
    "\n",
    "\n",
    "- **Note that `inherit=True` will override all other specified colors**"
   ]
  },
  {
   "cell_type": "code",
   "execution_count": null,
   "metadata": {},
   "outputs": [],
   "source": [
    "mc = mpf.make_marketcolors(up='palegreen',down='c',inherit=True)\n",
    "s  = mpf.make_mpf_style(marketcolors=mc)\n",
    "\n",
    "mpf.plot(daily,**kwargs,style=s)\n",
    "\n",
    "mpf.plot(daily,**ohlckws,style=s)"
   ]
  },
  {
   "cell_type": "markdown",
   "metadata": {},
   "source": [
    "---\n",
    "\n",
    "## Using 'base' styles:\n",
    "\n",
    "---\n",
    "\n",
    "- There are two kinds of 'base' or foundation styles that can be specified:\n",
    "  - `base_mpf_style` - base mplfinance style\n",
    "  - `base_mpl_style` - [base matplotlib style](https://matplotlib.org/gallery/style_sheets/style_sheets_reference.html).\n",
    "  \n",
    "\n",
    "- Specifying a 'base' style can make it easier to create your own mpf style by giving you something to start with, on top of which you can specify your own changes."
   ]
  },
  {
   "cell_type": "markdown",
   "metadata": {},
   "source": [
    "---\n",
    "\n",
    "## 'base' mplfinance styles:\n",
    "\n",
    "---\n",
    "\n",
    "- When creating either **marketcolors**, or an **mplfinance style**, it is possible to specify a **`base_mpf_style`**.\n",
    "\n",
    "### marketcolors:\n",
    "- When calling `mpf.make_marketcolors()`, specifying a `base_mpf_style` copies ***only*** the market colors from the 'base' style.\n",
    "\n",
    "  - You can then make specific changes to any of `up`, `down`, `edge`, `wick`, `ohlc`, or `volume` on top of the `base_mpf_style` **marketcolors**.\n",
    "\n",
    "### mplfinance style:\n",
    "- But, when calling `mpf.make_mpf_style()`, specifying a `base_mpf_style` copies ***all*** of the style attributes from the `base_mpf_style` (marketcolors, background, grid, etc).\n",
    "\n",
    "\n",
    "\n",
    "- For example, suppose I like style `nightclouds`, but I want to modify the `marketcolors` of that style to stand out more.  I can do the following:"
   ]
  },
  {
   "cell_type": "code",
   "execution_count": null,
   "metadata": {},
   "outputs": [],
   "source": [
    "# This is what `nightclouds` looks like un-modified:\n",
    "mpf.plot(daily,**kwargs,style='nightclouds',title='\\n`Nightclouds`')\n",
    "\n",
    "# Create my own `marketcolors` to use with the `nightclouds` style:\n",
    "mc = mpf.make_marketcolors(up='#00ff00',down='#ff00ff',inherit=True)\n",
    "\n",
    "# Create a new style based on `nightclouds` but with my own `marketcolors`:\n",
    "s  = mpf.make_mpf_style(base_mpf_style='nightclouds',marketcolors=mc)\n",
    "\n",
    "# Plot my new custom mpf style:\n",
    "mpf.plot(daily,**kwargs,style=s,title='`Nightclouds` \\nwith modified `marketcolors`')"
   ]
  },
  {
   "cell_type": "markdown",
   "metadata": {},
   "source": [
    "---\n",
    "## matplotlib styles:\n",
    "\n",
    "- **When creating a mpf style,** it is also possible to specify a **`base_mpl_style`** \n",
    "  - NOTICE **mpl** (matplot**lib**) style, _not_ mpf like we used above.  **See [matplotlib Style sheets reference](https://matplotlib.org/gallery/style_sheets/style_sheets_reference.html).**\n",
    "  \n",
    "  \n",
    "- So for example, suppose I like the `marketcolors` from mpf style `nightclouds` but I want to put them on a plot with a style similar to matplotlib style `seaborn`:"
   ]
  },
  {
   "cell_type": "code",
   "execution_count": null,
   "metadata": {},
   "outputs": [],
   "source": [
    "# Take marketcolors from 'nightclouds'\n",
    "mc = mpf.make_marketcolors(base_mpf_style='nightclouds')\n",
    "\n",
    "# Create a style based on `seaborn` using those market colors:\n",
    "s  = mpf.make_mpf_style(base_mpl_style='seaborn',marketcolors=mc)\n",
    "\n",
    "# Plot my new custom mpf style:\n",
    "mpf.plot(daily,**kwargs,style=s,\n",
    "         title='`nightclouds` marketcolors\\non matplotlib style `seaborn`')"
   ]
  },
  {
   "cell_type": "markdown",
   "metadata": {},
   "source": [
    "- Notice however, in the plot above, the white marketcolors are difficult to see with the light `seaborn` background.  \n",
    "\n",
    "\n",
    "- **We can fix that by tweaking the market colors when we create them from `nightclouds`**"
   ]
  },
  {
   "cell_type": "code",
   "execution_count": null,
   "metadata": {},
   "outputs": [],
   "source": [
    "# Take marketcolors from 'nightclouds', but make them easier to see on a light background:\n",
    "mc = mpf.make_marketcolors(base_mpf_style='nightclouds',\n",
    "                           edge='#505050',wick='#505050',volume='silver')\n",
    "\n",
    "# Create a style based on `seaborn` using those market colors:\n",
    "s  = mpf.make_mpf_style(base_mpl_style='seaborn',marketcolors=mc)\n",
    "\n",
    "# Plot my new custom mpf style:\n",
    "mpf.plot(daily,**kwargs,style=s,\n",
    "         title='modified `nightclouds` marketcolors\\non matplotlib style `seaborn`')"
   ]
  },
  {
   "cell_type": "markdown",
   "metadata": {},
   "source": [
    "---\n",
    "\n",
    "### The following OPTIONAL keyword arguments are available to `mpl.make_mpf_style()`<br> for creating an **mplfinance style:**\n",
    "\n",
    "| kwarg | comments    |\n",
    "|:---- |:-------------- |\n",
    "| base_mpf_style | `str` name of an existing **mplfinance** style.<br>*applied* ***first.***  (i.e. all other kwargs, if specified, override any settings in here). |\n",
    "| base_mpl_style | `str` name of name an existing **matplotlib** style.<br>*applied* ***second.***  (i.e. all other kwargs, if specified, override any settings in here). |\n",
    "| ...            | The remaining kwargs are applied only ***after*** the above two, and so will override any settings in the above two kwargs.\n",
    "| marketcolors   | Output from `mpf.make_marketcolors()` |\n",
    "| mavcolors      | `list` of one or more matplotlib colors to cycle through for moving averages |\n",
    "| facecolor      | facecolor of the Axes\n",
    "| edgecolor      | edgecolor of the Axes\n",
    "| figcolor       | facecolor of the Figure (outside of the Axes)\n",
    "| gridcolor      | color of grid lines\n",
    "| gridstyle      | style of grid lines; possible values are:<br>&nbsp;&nbsp;&nbsp;&nbsp;&nbsp;&nbsp;&nbsp;&nbsp;'-' or 'solid',<br>&nbsp;&nbsp;&nbsp;&nbsp;&nbsp;&nbsp;&nbsp;&nbsp;'--' or 'dashed',<br>&nbsp;&nbsp;&nbsp;&nbsp;&nbsp;&nbsp;&nbsp;&nbsp;'-.' or 'dashdot',<br>&nbsp;&nbsp;&nbsp;&nbsp;&nbsp;&nbsp;&nbsp;&nbsp;':' or 'dotted',<br>&nbsp;&nbsp;&nbsp;&nbsp;&nbsp;&nbsp;&nbsp;&nbsp;None or ' ' or '' (draw nothing)\n",
    "| gridaxis       | 'horizontal', 'vertical', or 'both'\n",
    "| y_on_right     | boolean (display **primary** y-axis labels and ticks on right)  |\n",
    "| rc             | `dict` of specific rcParams to modify. Note that the following kwargs also modify rcParams: facecolor, figcolor, gridcolor, gridstyle, gridaxis; If any of them are specified, and the same rcParam is also specified, then the kwarg takes precedence.\n"
   ]
  },
  {
   "cell_type": "markdown",
   "metadata": {},
   "source": [
    "---\n",
    "\n",
    "### WARNING:\n",
    "- `mpf.make_marketcolors()` returns a `marketcolors` object, which can be used as input to the `marketcolors=` keyword argument of function `mpf.make_mpf_style()`\n",
    "\n",
    "\n",
    "- `mpf.make_mpf_style()` returns an `mpf_style` object that is used as input the the `style=` keyword argument of function `mpf.plot()`\n",
    "\n",
    "\n",
    "- You may have noticed that, at the present time, both the `marketcolors` object and the `mpf_style` object, are actually python `dict` objects, that are structured in a particular way that is expected and understood by the `mplfinance` code, **HOWEVER PLEASE NOTE:**\n",
    "  - There is *no* guarantee that the structure of these dicts will not change in future versions of the code.\n",
    "  - Nor is there any guarantee that these objects won't someday be an instance of some `class` that is specific to mplfinance.\n",
    "\n",
    "\n",
    "- **THEREFORE** it is strongly advised that you always call `make_marketcolors()` and `make_mpf_style()` and **do not** do any direct manipulating of the output from these functions.\n",
    "\n",
    "---"
   ]
  },
  {
   "cell_type": "code",
   "execution_count": null,
   "metadata": {},
   "outputs": [],
   "source": []
  }
 ],
 "metadata": {
  "kernelspec": {
   "display_name": "Python 3",
   "language": "python",
   "name": "python3"
  },
  "language_info": {
   "codemirror_mode": {
    "name": "ipython",
    "version": 3
   },
   "file_extension": ".py",
   "mimetype": "text/x-python",
   "name": "python",
   "nbconvert_exporter": "python",
   "pygments_lexer": "ipython3",
   "version": "3.7.5"
  }
 },
 "nbformat": 4,
 "nbformat_minor": 2
}
