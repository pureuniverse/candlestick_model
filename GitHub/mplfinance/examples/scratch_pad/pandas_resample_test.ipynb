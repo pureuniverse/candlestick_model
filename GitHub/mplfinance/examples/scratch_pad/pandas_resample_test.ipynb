{
 "cells": [
  {
   "cell_type": "markdown",
   "metadata": {},
   "source": [
    "---\n",
    "#  mplfinance\n",
    "---\n",
    "## Test Pandas.`resample()`.\n",
    "---"
   ]
  },
  {
   "cell_type": "code",
   "execution_count": 1,
   "metadata": {},
   "outputs": [],
   "source": [
    "# This allows multiple outputs from a single jupyter notebook cell:\n",
    "from IPython.core.interactiveshell import InteractiveShell\n",
    "InteractiveShell.ast_node_interactivity = \"all\""
   ]
  },
  {
   "cell_type": "code",
   "execution_count": 2,
   "metadata": {},
   "outputs": [
    {
     "data": {
      "text/plain": [
       "'0.24.2'"
      ]
     },
     "execution_count": 2,
     "metadata": {},
     "output_type": "execute_result"
    }
   ],
   "source": [
    "import pandas as pd\n",
    "pd.__version__  # for the record\n",
    "%matplotlib inline"
   ]
  },
  {
   "cell_type": "code",
   "execution_count": 3,
   "metadata": {},
   "outputs": [],
   "source": [
    "# daily = pd.read_csv('../data/SP500_NOV2019_Hist.csv',index_col=0,parse_dates=True)\n",
    "# daily.index.name = 'Date'\n",
    "# daily.shape\n",
    "# daily.head(3)\n",
    "# daily.tail(3)"
   ]
  },
  {
   "cell_type": "code",
   "execution_count": 4,
   "metadata": {},
   "outputs": [],
   "source": [
    "import mplfinance as mpf"
   ]
  },
  {
   "cell_type": "code",
   "execution_count": 5,
   "metadata": {},
   "outputs": [
    {
     "data": {
      "text/plain": [
       "(1563, 4)"
      ]
     },
     "execution_count": 5,
     "metadata": {},
     "output_type": "execute_result"
    },
    {
     "data": {
      "text/html": [
       "<div>\n",
       "<style scoped>\n",
       "    .dataframe tbody tr th:only-of-type {\n",
       "        vertical-align: middle;\n",
       "    }\n",
       "\n",
       "    .dataframe tbody tr th {\n",
       "        vertical-align: top;\n",
       "    }\n",
       "\n",
       "    .dataframe thead th {\n",
       "        text-align: right;\n",
       "    }\n",
       "</style>\n",
       "<table border=\"1\" class=\"dataframe\">\n",
       "  <thead>\n",
       "    <tr style=\"text-align: right;\">\n",
       "      <th></th>\n",
       "      <th>Open</th>\n",
       "      <th>Close</th>\n",
       "      <th>High</th>\n",
       "      <th>Low</th>\n",
       "    </tr>\n",
       "    <tr>\n",
       "      <th>Date</th>\n",
       "      <th></th>\n",
       "      <th></th>\n",
       "      <th></th>\n",
       "      <th></th>\n",
       "    </tr>\n",
       "  </thead>\n",
       "  <tbody>\n",
       "    <tr>\n",
       "      <th>2019-11-05 09:30:00</th>\n",
       "      <td>3080.80</td>\n",
       "      <td>3080.49</td>\n",
       "      <td>3081.47</td>\n",
       "      <td>3080.30</td>\n",
       "    </tr>\n",
       "    <tr>\n",
       "      <th>2019-11-05 09:31:00</th>\n",
       "      <td>3080.33</td>\n",
       "      <td>3079.36</td>\n",
       "      <td>3080.33</td>\n",
       "      <td>3079.15</td>\n",
       "    </tr>\n",
       "    <tr>\n",
       "      <th>2019-11-05 09:32:00</th>\n",
       "      <td>3079.43</td>\n",
       "      <td>3079.68</td>\n",
       "      <td>3080.46</td>\n",
       "      <td>3079.43</td>\n",
       "    </tr>\n",
       "  </tbody>\n",
       "</table>\n",
       "</div>"
      ],
      "text/plain": [
       "                        Open    Close     High      Low\n",
       "Date                                                   \n",
       "2019-11-05 09:30:00  3080.80  3080.49  3081.47  3080.30\n",
       "2019-11-05 09:31:00  3080.33  3079.36  3080.33  3079.15\n",
       "2019-11-05 09:32:00  3079.43  3079.68  3080.46  3079.43"
      ]
     },
     "execution_count": 5,
     "metadata": {},
     "output_type": "execute_result"
    },
    {
     "data": {
      "text/html": [
       "<div>\n",
       "<style scoped>\n",
       "    .dataframe tbody tr th:only-of-type {\n",
       "        vertical-align: middle;\n",
       "    }\n",
       "\n",
       "    .dataframe tbody tr th {\n",
       "        vertical-align: top;\n",
       "    }\n",
       "\n",
       "    .dataframe thead th {\n",
       "        text-align: right;\n",
       "    }\n",
       "</style>\n",
       "<table border=\"1\" class=\"dataframe\">\n",
       "  <thead>\n",
       "    <tr style=\"text-align: right;\">\n",
       "      <th></th>\n",
       "      <th>Open</th>\n",
       "      <th>Close</th>\n",
       "      <th>High</th>\n",
       "      <th>Low</th>\n",
       "    </tr>\n",
       "    <tr>\n",
       "      <th>Date</th>\n",
       "      <th></th>\n",
       "      <th></th>\n",
       "      <th></th>\n",
       "      <th></th>\n",
       "    </tr>\n",
       "  </thead>\n",
       "  <tbody>\n",
       "    <tr>\n",
       "      <th>2019-11-08 15:57:00</th>\n",
       "      <td>3090.73</td>\n",
       "      <td>3090.70</td>\n",
       "      <td>3091.02</td>\n",
       "      <td>3090.52</td>\n",
       "    </tr>\n",
       "    <tr>\n",
       "      <th>2019-11-08 15:58:00</th>\n",
       "      <td>3090.73</td>\n",
       "      <td>3091.04</td>\n",
       "      <td>3091.13</td>\n",
       "      <td>3090.58</td>\n",
       "    </tr>\n",
       "    <tr>\n",
       "      <th>2019-11-08 15:59:00</th>\n",
       "      <td>3091.16</td>\n",
       "      <td>3092.91</td>\n",
       "      <td>3092.91</td>\n",
       "      <td>3090.96</td>\n",
       "    </tr>\n",
       "  </tbody>\n",
       "</table>\n",
       "</div>"
      ],
      "text/plain": [
       "                        Open    Close     High      Low\n",
       "Date                                                   \n",
       "2019-11-08 15:57:00  3090.73  3090.70  3091.02  3090.52\n",
       "2019-11-08 15:58:00  3090.73  3091.04  3091.13  3090.58\n",
       "2019-11-08 15:59:00  3091.16  3092.91  3092.91  3090.96"
      ]
     },
     "execution_count": 5,
     "metadata": {},
     "output_type": "execute_result"
    }
   ],
   "source": [
    "intraday = pd.read_csv('../data/SP500_NOV2019_IDay.csv',index_col=0,parse_dates=True)\n",
    "intraday = intraday.drop('Volume',axis=1) # Volume is zero anyway for this intraday data set\n",
    "intraday.index.name = 'Date'\n",
    "intraday.shape\n",
    "intraday.head(3)\n",
    "intraday.tail(3)"
   ]
  },
  {
   "cell_type": "code",
   "execution_count": 6,
   "metadata": {},
   "outputs": [
    {
     "data": {
      "image/png": "[encoded data removed]",
      "text/plain": [
       "<Figure size 720x576 with 1 Axes>"
      ]
     },
     "metadata": {},
     "output_type": "display_data"
    }
   ],
   "source": [
    "iday = intraday.loc['2019-11-06 15:00':'2019-11-06 16:00',:]\n",
    "mpf.plot(iday,type='candle',mav=(7,12))"
   ]
  },
  {
   "cell_type": "code",
   "execution_count": 7,
   "metadata": {},
   "outputs": [
    {
     "data": {
      "text/plain": [
       "(2519, 6)"
      ]
     },
     "execution_count": 7,
     "metadata": {},
     "output_type": "execute_result"
    },
    {
     "data": {
      "text/html": [
       "<div>\n",
       "<style scoped>\n",
       "    .dataframe tbody tr th:only-of-type {\n",
       "        vertical-align: middle;\n",
       "    }\n",
       "\n",
       "    .dataframe tbody tr th {\n",
       "        vertical-align: top;\n",
       "    }\n",
       "\n",
       "    .dataframe thead th {\n",
       "        text-align: right;\n",
       "    }\n",
       "</style>\n",
       "<table border=\"1\" class=\"dataframe\">\n",
       "  <thead>\n",
       "    <tr style=\"text-align: right;\">\n",
       "      <th></th>\n",
       "      <th>Open</th>\n",
       "      <th>High</th>\n",
       "      <th>Low</th>\n",
       "      <th>Close</th>\n",
       "      <th>Adj Close</th>\n",
       "      <th>Volume</th>\n",
       "    </tr>\n",
       "    <tr>\n",
       "      <th>Date</th>\n",
       "      <th></th>\n",
       "      <th></th>\n",
       "      <th></th>\n",
       "      <th></th>\n",
       "      <th></th>\n",
       "      <th></th>\n",
       "    </tr>\n",
       "  </thead>\n",
       "  <tbody>\n",
       "    <tr>\n",
       "      <th>2007-12-31</th>\n",
       "      <td>147.100006</td>\n",
       "      <td>147.610001</td>\n",
       "      <td>146.059998</td>\n",
       "      <td>146.210007</td>\n",
       "      <td>118.624741</td>\n",
       "      <td>108126800</td>\n",
       "    </tr>\n",
       "    <tr>\n",
       "      <th>2008-01-02</th>\n",
       "      <td>146.529999</td>\n",
       "      <td>146.990005</td>\n",
       "      <td>143.880005</td>\n",
       "      <td>144.929993</td>\n",
       "      <td>117.586205</td>\n",
       "      <td>204935600</td>\n",
       "    </tr>\n",
       "    <tr>\n",
       "      <th>2008-01-03</th>\n",
       "      <td>144.910004</td>\n",
       "      <td>145.490005</td>\n",
       "      <td>144.070007</td>\n",
       "      <td>144.860001</td>\n",
       "      <td>117.529449</td>\n",
       "      <td>125133300</td>\n",
       "    </tr>\n",
       "  </tbody>\n",
       "</table>\n",
       "</div>"
      ],
      "text/plain": [
       "                  Open        High         Low       Close   Adj Close  \\\n",
       "Date                                                                     \n",
       "2007-12-31  147.100006  147.610001  146.059998  146.210007  118.624741   \n",
       "2008-01-02  146.529999  146.990005  143.880005  144.929993  117.586205   \n",
       "2008-01-03  144.910004  145.490005  144.070007  144.860001  117.529449   \n",
       "\n",
       "               Volume  \n",
       "Date                   \n",
       "2007-12-31  108126800  \n",
       "2008-01-02  204935600  \n",
       "2008-01-03  125133300  "
      ]
     },
     "execution_count": 7,
     "metadata": {},
     "output_type": "execute_result"
    },
    {
     "data": {
      "text/html": [
       "<div>\n",
       "<style scoped>\n",
       "    .dataframe tbody tr th:only-of-type {\n",
       "        vertical-align: middle;\n",
       "    }\n",
       "\n",
       "    .dataframe tbody tr th {\n",
       "        vertical-align: top;\n",
       "    }\n",
       "\n",
       "    .dataframe thead th {\n",
       "        text-align: right;\n",
       "    }\n",
       "</style>\n",
       "<table border=\"1\" class=\"dataframe\">\n",
       "  <thead>\n",
       "    <tr style=\"text-align: right;\">\n",
       "      <th></th>\n",
       "      <th>Open</th>\n",
       "      <th>High</th>\n",
       "      <th>Low</th>\n",
       "      <th>Close</th>\n",
       "      <th>Adj Close</th>\n",
       "      <th>Volume</th>\n",
       "    </tr>\n",
       "    <tr>\n",
       "      <th>Date</th>\n",
       "      <th></th>\n",
       "      <th></th>\n",
       "      <th></th>\n",
       "      <th></th>\n",
       "      <th></th>\n",
       "      <th></th>\n",
       "    </tr>\n",
       "  </thead>\n",
       "  <tbody>\n",
       "    <tr>\n",
       "      <th>2017-12-27</th>\n",
       "      <td>267.380005</td>\n",
       "      <td>267.730011</td>\n",
       "      <td>267.010010</td>\n",
       "      <td>267.320007</td>\n",
       "      <td>267.320007</td>\n",
       "      <td>57751000</td>\n",
       "    </tr>\n",
       "    <tr>\n",
       "      <th>2017-12-28</th>\n",
       "      <td>267.890015</td>\n",
       "      <td>267.920013</td>\n",
       "      <td>267.450012</td>\n",
       "      <td>267.869995</td>\n",
       "      <td>267.869995</td>\n",
       "      <td>45116100</td>\n",
       "    </tr>\n",
       "    <tr>\n",
       "      <th>2017-12-29</th>\n",
       "      <td>268.529999</td>\n",
       "      <td>268.549988</td>\n",
       "      <td>266.640015</td>\n",
       "      <td>266.859985</td>\n",
       "      <td>266.859985</td>\n",
       "      <td>96007400</td>\n",
       "    </tr>\n",
       "  </tbody>\n",
       "</table>\n",
       "</div>"
      ],
      "text/plain": [
       "                  Open        High         Low       Close   Adj Close  \\\n",
       "Date                                                                     \n",
       "2017-12-27  267.380005  267.730011  267.010010  267.320007  267.320007   \n",
       "2017-12-28  267.890015  267.920013  267.450012  267.869995  267.869995   \n",
       "2017-12-29  268.529999  268.549988  266.640015  266.859985  266.859985   \n",
       "\n",
       "              Volume  \n",
       "Date                  \n",
       "2017-12-27  57751000  \n",
       "2017-12-28  45116100  \n",
       "2017-12-29  96007400  "
      ]
     },
     "execution_count": 7,
     "metadata": {},
     "output_type": "execute_result"
    }
   ],
   "source": [
    "df = pd.read_csv('../data/yahoofinance-SPY-20080101-20180101.csv',index_col=0,parse_dates=True)\n",
    "df.shape\n",
    "df.head(3)\n",
    "df.tail(3)"
   ]
  },
  {
   "cell_type": "code",
   "execution_count": 8,
   "metadata": {
    "scrolled": false
   },
   "outputs": [
    {
     "data": {
      "image/png": "[encoded data removed]",
      "text/plain": [
       "<Figure size 540x432 with 2 Axes>"
      ]
     },
     "metadata": {},
     "output_type": "display_data"
    }
   ],
   "source": [
    "mpf.plot(df[700:850],type='bars',volume=True,no_xgaps=True,mav=(20,40),figscale=0.75)"
   ]
  },
  {
   "cell_type": "code",
   "execution_count": 9,
   "metadata": {},
   "outputs": [
    {
     "data": {
      "image/png": "[encoded data removed]",
      "text/plain": [
       "<Figure size 720x576 with 2 Axes>"
      ]
     },
     "metadata": {},
     "output_type": "display_data"
    }
   ],
   "source": [
    "mpf.plot(df[700:850],type='bars',volume=True,no_xgaps=True,mav=(20,40))"
   ]
  },
  {
   "cell_type": "code",
   "execution_count": 10,
   "metadata": {},
   "outputs": [],
   "source": [
    "#mpf.plot(df[700:850],type='bars',volume=True,mav=(20,40))\n",
    "tdf = df[700:850].copy()"
   ]
  },
  {
   "cell_type": "code",
   "execution_count": 11,
   "metadata": {},
   "outputs": [],
   "source": [
    "ntdf = tdf.resample('1W').agg(\n",
    "    {'Open'  :'first',\n",
    "     'High'  :'max',\n",
    "     'Low'   :'min',\n",
    "     'Close' :'last',\n",
    "     'Volume':'sum'\n",
    "    })"
   ]
  },
  {
   "cell_type": "code",
   "execution_count": 12,
   "metadata": {},
   "outputs": [
    {
     "data": {
      "text/html": [
       "<div>\n",
       "<style scoped>\n",
       "    .dataframe tbody tr th:only-of-type {\n",
       "        vertical-align: middle;\n",
       "    }\n",
       "\n",
       "    .dataframe tbody tr th {\n",
       "        vertical-align: top;\n",
       "    }\n",
       "\n",
       "    .dataframe thead th {\n",
       "        text-align: right;\n",
       "    }\n",
       "</style>\n",
       "<table border=\"1\" class=\"dataframe\">\n",
       "  <thead>\n",
       "    <tr style=\"text-align: right;\">\n",
       "      <th></th>\n",
       "      <th>Open</th>\n",
       "      <th>High</th>\n",
       "      <th>Low</th>\n",
       "      <th>Close</th>\n",
       "      <th>Adj Close</th>\n",
       "      <th>Volume</th>\n",
       "    </tr>\n",
       "    <tr>\n",
       "      <th>Date</th>\n",
       "      <th></th>\n",
       "      <th></th>\n",
       "      <th></th>\n",
       "      <th></th>\n",
       "      <th></th>\n",
       "      <th></th>\n",
       "    </tr>\n",
       "  </thead>\n",
       "  <tbody>\n",
       "    <tr>\n",
       "      <th>2010-10-11</th>\n",
       "      <td>116.720001</td>\n",
       "      <td>116.970001</td>\n",
       "      <td>116.250000</td>\n",
       "      <td>116.650002</td>\n",
       "      <td>100.581131</td>\n",
       "      <td>103098300</td>\n",
       "    </tr>\n",
       "    <tr>\n",
       "      <th>2010-10-12</th>\n",
       "      <td>116.269997</td>\n",
       "      <td>117.349998</td>\n",
       "      <td>115.650002</td>\n",
       "      <td>117.010002</td>\n",
       "      <td>100.891541</td>\n",
       "      <td>182210000</td>\n",
       "    </tr>\n",
       "    <tr>\n",
       "      <th>2010-10-13</th>\n",
       "      <td>117.660004</td>\n",
       "      <td>118.550003</td>\n",
       "      <td>117.379997</td>\n",
       "      <td>117.919998</td>\n",
       "      <td>101.676186</td>\n",
       "      <td>194347200</td>\n",
       "    </tr>\n",
       "    <tr>\n",
       "      <th>2010-10-14</th>\n",
       "      <td>117.809998</td>\n",
       "      <td>118.010002</td>\n",
       "      <td>116.720001</td>\n",
       "      <td>117.459999</td>\n",
       "      <td>101.279564</td>\n",
       "      <td>217764300</td>\n",
       "    </tr>\n",
       "    <tr>\n",
       "      <th>2010-10-15</th>\n",
       "      <td>118.279999</td>\n",
       "      <td>118.349998</td>\n",
       "      <td>116.760002</td>\n",
       "      <td>117.699997</td>\n",
       "      <td>101.486496</td>\n",
       "      <td>243705000</td>\n",
       "    </tr>\n",
       "    <tr>\n",
       "      <th>2010-10-18</th>\n",
       "      <td>117.739998</td>\n",
       "      <td>118.669998</td>\n",
       "      <td>117.309998</td>\n",
       "      <td>118.279999</td>\n",
       "      <td>101.986603</td>\n",
       "      <td>141204800</td>\n",
       "    </tr>\n",
       "    <tr>\n",
       "      <th>2010-10-19</th>\n",
       "      <td>117.190002</td>\n",
       "      <td>117.849998</td>\n",
       "      <td>116.019997</td>\n",
       "      <td>116.730003</td>\n",
       "      <td>100.650116</td>\n",
       "      <td>280604700</td>\n",
       "    </tr>\n",
       "  </tbody>\n",
       "</table>\n",
       "</div>"
      ],
      "text/plain": [
       "                  Open        High         Low       Close   Adj Close  \\\n",
       "Date                                                                     \n",
       "2010-10-11  116.720001  116.970001  116.250000  116.650002  100.581131   \n",
       "2010-10-12  116.269997  117.349998  115.650002  117.010002  100.891541   \n",
       "2010-10-13  117.660004  118.550003  117.379997  117.919998  101.676186   \n",
       "2010-10-14  117.809998  118.010002  116.720001  117.459999  101.279564   \n",
       "2010-10-15  118.279999  118.349998  116.760002  117.699997  101.486496   \n",
       "2010-10-18  117.739998  118.669998  117.309998  118.279999  101.986603   \n",
       "2010-10-19  117.190002  117.849998  116.019997  116.730003  100.650116   \n",
       "\n",
       "               Volume  \n",
       "Date                   \n",
       "2010-10-11  103098300  \n",
       "2010-10-12  182210000  \n",
       "2010-10-13  194347200  \n",
       "2010-10-14  217764300  \n",
       "2010-10-15  243705000  \n",
       "2010-10-18  141204800  \n",
       "2010-10-19  280604700  "
      ]
     },
     "execution_count": 12,
     "metadata": {},
     "output_type": "execute_result"
    },
    {
     "data": {
      "text/html": [
       "<div>\n",
       "<style scoped>\n",
       "    .dataframe tbody tr th:only-of-type {\n",
       "        vertical-align: middle;\n",
       "    }\n",
       "\n",
       "    .dataframe tbody tr th {\n",
       "        vertical-align: top;\n",
       "    }\n",
       "\n",
       "    .dataframe thead th {\n",
       "        text-align: right;\n",
       "    }\n",
       "</style>\n",
       "<table border=\"1\" class=\"dataframe\">\n",
       "  <thead>\n",
       "    <tr style=\"text-align: right;\">\n",
       "      <th></th>\n",
       "      <th>Open</th>\n",
       "      <th>High</th>\n",
       "      <th>Low</th>\n",
       "      <th>Close</th>\n",
       "      <th>Volume</th>\n",
       "    </tr>\n",
       "    <tr>\n",
       "      <th>Date</th>\n",
       "      <th></th>\n",
       "      <th></th>\n",
       "      <th></th>\n",
       "      <th></th>\n",
       "      <th></th>\n",
       "    </tr>\n",
       "  </thead>\n",
       "  <tbody>\n",
       "    <tr>\n",
       "      <th>2010-10-17</th>\n",
       "      <td>116.720001</td>\n",
       "      <td>118.550003</td>\n",
       "      <td>115.650002</td>\n",
       "      <td>117.699997</td>\n",
       "      <td>941124800</td>\n",
       "    </tr>\n",
       "    <tr>\n",
       "      <th>2010-10-24</th>\n",
       "      <td>117.739998</td>\n",
       "      <td>119.089996</td>\n",
       "      <td>116.019997</td>\n",
       "      <td>118.349998</td>\n",
       "      <td>951659200</td>\n",
       "    </tr>\n",
       "    <tr>\n",
       "      <th>2010-10-31</th>\n",
       "      <td>119.139999</td>\n",
       "      <td>119.760002</td>\n",
       "      <td>117.260002</td>\n",
       "      <td>118.489998</td>\n",
       "      <td>813034100</td>\n",
       "    </tr>\n",
       "  </tbody>\n",
       "</table>\n",
       "</div>"
      ],
      "text/plain": [
       "                  Open        High         Low       Close     Volume\n",
       "Date                                                                 \n",
       "2010-10-17  116.720001  118.550003  115.650002  117.699997  941124800\n",
       "2010-10-24  117.739998  119.089996  116.019997  118.349998  951659200\n",
       "2010-10-31  119.139999  119.760002  117.260002  118.489998  813034100"
      ]
     },
     "execution_count": 12,
     "metadata": {},
     "output_type": "execute_result"
    }
   ],
   "source": [
    "#dir(ntdf)\n",
    "tdf.head(7)\n",
    "ntdf.head(3)"
   ]
  },
  {
   "cell_type": "code",
   "execution_count": 13,
   "metadata": {},
   "outputs": [
    {
     "data": {
      "text/plain": [
       "941124800"
      ]
     },
     "execution_count": 13,
     "metadata": {},
     "output_type": "execute_result"
    }
   ],
   "source": [
    "tdf.loc['2010-10-11':'2010-10-15','Volume'].sum()"
   ]
  },
  {
   "cell_type": "code",
   "execution_count": 14,
   "metadata": {},
   "outputs": [
    {
     "data": {
      "text/plain": [
       "116.720001"
      ]
     },
     "execution_count": 14,
     "metadata": {},
     "output_type": "execute_result"
    },
    {
     "data": {
      "text/plain": [
       "117.699997"
      ]
     },
     "execution_count": 14,
     "metadata": {},
     "output_type": "execute_result"
    },
    {
     "data": {
      "text/plain": [
       "118.550003"
      ]
     },
     "execution_count": 14,
     "metadata": {},
     "output_type": "execute_result"
    },
    {
     "data": {
      "text/plain": [
       "115.650002"
      ]
     },
     "execution_count": 14,
     "metadata": {},
     "output_type": "execute_result"
    }
   ],
   "source": [
    "tdf.loc['2010-10-11':'2010-10-15','Open'][0]\n",
    "tdf.loc['2010-10-11':'2010-10-15','Close'][4]\n",
    "tdf.loc['2010-10-11':'2010-10-15','High'].max()\n",
    "tdf.loc['2010-10-11':'2010-10-15','Low'].min()"
   ]
  },
  {
   "cell_type": "code",
   "execution_count": 15,
   "metadata": {},
   "outputs": [
    {
     "data": {
      "text/plain": [
       "116.720001"
      ]
     },
     "execution_count": 15,
     "metadata": {},
     "output_type": "execute_result"
    },
    {
     "data": {
      "text/plain": [
       "117.699997"
      ]
     },
     "execution_count": 15,
     "metadata": {},
     "output_type": "execute_result"
    }
   ],
   "source": [
    "tdf.loc['2010-10-11':'2010-10-15','Open'][0]\n",
    "tdf.loc['2010-10-11':'2010-10-15','Close'][len(tdf.loc['2010-10-11':'2010-10-15','Close'])-1]"
   ]
  },
  {
   "cell_type": "code",
   "execution_count": null,
   "metadata": {},
   "outputs": [],
   "source": []
  },
  {
   "cell_type": "code",
   "execution_count": null,
   "metadata": {},
   "outputs": [],
   "source": []
  }
 ],
 "metadata": {
  "kernelspec": {
   "display_name": "Python 3",
   "language": "python",
   "name": "python3"
  },
  "language_info": {
   "codemirror_mode": {
    "name": "ipython",
    "version": 3
   },
   "file_extension": ".py",
   "mimetype": "text/x-python",
   "name": "python",
   "nbconvert_exporter": "python",
   "pygments_lexer": "ipython3",
   "version": "3.7.3"
  }
 },
 "nbformat": 4,
 "nbformat_minor": 2
}
