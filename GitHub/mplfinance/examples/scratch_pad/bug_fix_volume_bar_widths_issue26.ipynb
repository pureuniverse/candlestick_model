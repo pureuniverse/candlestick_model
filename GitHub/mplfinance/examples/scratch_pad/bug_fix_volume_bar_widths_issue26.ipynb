{
 "cells": [
  {
   "cell_type": "code",
   "execution_count": 1,
   "metadata": {},
   "outputs": [],
   "source": [
    "issue_url='https://github.com/matplotlib/mplfinance/issues/26'"
   ]
  },
  {
   "cell_type": "code",
   "execution_count": 2,
   "metadata": {},
   "outputs": [],
   "source": [
    "# This allows multiple outputs from a single jupyter notebook cell:\n",
    "from IPython.core.interactiveshell import InteractiveShell\n",
    "InteractiveShell.ast_node_interactivity = \"all\""
   ]
  },
  {
   "cell_type": "code",
   "execution_count": 3,
   "metadata": {},
   "outputs": [
    {
     "data": {
      "text/plain": [
       "'0.12.1a0'"
      ]
     },
     "execution_count": 3,
     "metadata": {},
     "output_type": "execute_result"
    },
    {
     "data": {
      "text/plain": [
       "'0.25.1'"
      ]
     },
     "execution_count": 3,
     "metadata": {},
     "output_type": "execute_result"
    }
   ],
   "source": [
    "import mplfinance as mpf\n",
    "mpf.__version__\n",
    "import pandas as pd\n",
    "pd.__version__"
   ]
  },
  {
   "cell_type": "code",
   "execution_count": 4,
   "metadata": {},
   "outputs": [],
   "source": [
    "df = pd.read_pickle('data.pkl')"
   ]
  },
  {
   "cell_type": "code",
   "execution_count": 5,
   "metadata": {},
   "outputs": [
    {
     "data": {
      "text/html": [
       "<div>\n",
       "<style scoped>\n",
       "    .dataframe tbody tr th:only-of-type {\n",
       "        vertical-align: middle;\n",
       "    }\n",
       "\n",
       "    .dataframe tbody tr th {\n",
       "        vertical-align: top;\n",
       "    }\n",
       "\n",
       "    .dataframe thead th {\n",
       "        text-align: right;\n",
       "    }\n",
       "</style>\n",
       "<table border=\"1\" class=\"dataframe\">\n",
       "  <thead>\n",
       "    <tr style=\"text-align: right;\">\n",
       "      <th></th>\n",
       "      <th>Open</th>\n",
       "      <th>High</th>\n",
       "      <th>Low</th>\n",
       "      <th>Close</th>\n",
       "      <th>Volume</th>\n",
       "    </tr>\n",
       "  </thead>\n",
       "  <tbody>\n",
       "    <tr>\n",
       "      <td>2020-02-05 00:00:00</td>\n",
       "      <td>8314.5</td>\n",
       "      <td>8324.1</td>\n",
       "      <td>8292.4</td>\n",
       "      <td>8293.1</td>\n",
       "      <td>9.564241</td>\n",
       "    </tr>\n",
       "    <tr>\n",
       "      <td>2020-02-05 00:30:00</td>\n",
       "      <td>8293.1</td>\n",
       "      <td>8313.6</td>\n",
       "      <td>8293.1</td>\n",
       "      <td>8307.9</td>\n",
       "      <td>2.535547</td>\n",
       "    </tr>\n",
       "    <tr>\n",
       "      <td>2020-02-05 01:00:00</td>\n",
       "      <td>8307.7</td>\n",
       "      <td>8321.9</td>\n",
       "      <td>8295.7</td>\n",
       "      <td>8313.8</td>\n",
       "      <td>17.049031</td>\n",
       "    </tr>\n",
       "  </tbody>\n",
       "</table>\n",
       "</div>"
      ],
      "text/plain": [
       "                       Open    High     Low   Close     Volume\n",
       "2020-02-05 00:00:00  8314.5  8324.1  8292.4  8293.1   9.564241\n",
       "2020-02-05 00:30:00  8293.1  8313.6  8293.1  8307.9   2.535547\n",
       "2020-02-05 01:00:00  8307.7  8321.9  8295.7  8313.8  17.049031"
      ]
     },
     "execution_count": 5,
     "metadata": {},
     "output_type": "execute_result"
    },
    {
     "data": {
      "text/html": [
       "<div>\n",
       "<style scoped>\n",
       "    .dataframe tbody tr th:only-of-type {\n",
       "        vertical-align: middle;\n",
       "    }\n",
       "\n",
       "    .dataframe tbody tr th {\n",
       "        vertical-align: top;\n",
       "    }\n",
       "\n",
       "    .dataframe thead th {\n",
       "        text-align: right;\n",
       "    }\n",
       "</style>\n",
       "<table border=\"1\" class=\"dataframe\">\n",
       "  <thead>\n",
       "    <tr style=\"text-align: right;\">\n",
       "      <th></th>\n",
       "      <th>Open</th>\n",
       "      <th>High</th>\n",
       "      <th>Low</th>\n",
       "      <th>Close</th>\n",
       "      <th>Volume</th>\n",
       "    </tr>\n",
       "  </thead>\n",
       "  <tbody>\n",
       "    <tr>\n",
       "      <td>2020-02-05 22:30:00</td>\n",
       "      <td>8809.6</td>\n",
       "      <td>8823.7</td>\n",
       "      <td>8801.8</td>\n",
       "      <td>8803.7</td>\n",
       "      <td>74.728087</td>\n",
       "    </tr>\n",
       "    <tr>\n",
       "      <td>2020-02-05 23:00:00</td>\n",
       "      <td>8803.1</td>\n",
       "      <td>8805.1</td>\n",
       "      <td>8744.2</td>\n",
       "      <td>8754.4</td>\n",
       "      <td>83.626079</td>\n",
       "    </tr>\n",
       "    <tr>\n",
       "      <td>2020-02-05 23:30:00</td>\n",
       "      <td>8753.1</td>\n",
       "      <td>8764.4</td>\n",
       "      <td>8730.9</td>\n",
       "      <td>8746.0</td>\n",
       "      <td>38.084380</td>\n",
       "    </tr>\n",
       "  </tbody>\n",
       "</table>\n",
       "</div>"
      ],
      "text/plain": [
       "                       Open    High     Low   Close     Volume\n",
       "2020-02-05 22:30:00  8809.6  8823.7  8801.8  8803.7  74.728087\n",
       "2020-02-05 23:00:00  8803.1  8805.1  8744.2  8754.4  83.626079\n",
       "2020-02-05 23:30:00  8753.1  8764.4  8730.9  8746.0  38.084380"
      ]
     },
     "execution_count": 5,
     "metadata": {},
     "output_type": "execute_result"
    }
   ],
   "source": [
    "df.head(3)\n",
    "df.tail(3)"
   ]
  },
  {
   "cell_type": "code",
   "execution_count": 6,
   "metadata": {},
   "outputs": [
    {
     "data": {
      "image/png": "[encoded data removed]",
      "text/plain": [
       "<Figure size 504x360 with 2 Axes>"
      ]
     },
     "metadata": {},
     "output_type": "display_data"
    },
    {
     "data": {
      "image/png": "[encoded data removed]",
      "text/plain": [
       "<Figure size 504x360 with 2 Axes>"
      ]
     },
     "metadata": {},
     "output_type": "display_data"
    }
   ],
   "source": [
    "mpf.plot(df,volume=True)\n",
    "mpf.plot(df,volume=True,show_nontrading=True)"
   ]
  },
  {
   "cell_type": "code",
   "execution_count": null,
   "metadata": {},
   "outputs": [],
   "source": []
  }
 ],
 "metadata": {
  "kernelspec": {
   "display_name": "Python 3",
   "language": "python",
   "name": "python3"
  },
  "language_info": {
   "codemirror_mode": {
    "name": "ipython",
    "version": 3
   },
   "file_extension": ".py",
   "mimetype": "text/x-python",
   "name": "python",
   "nbconvert_exporter": "python",
   "pygments_lexer": "ipython3",
   "version": "3.7.4"
  }
 },
 "nbformat": 4,
 "nbformat_minor": 2
}
